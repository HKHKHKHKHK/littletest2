{
 "cells": [
  {
   "cell_type": "code",
   "execution_count": null,
   "metadata": {},
   "outputs": [],
   "source": [
    "import json\n",
    "import logging\n",
    "from scrapy import signals\n",
    "import requests\n",
    "\n",
    "\n",
    "class ProxyMiddleware():\n",
    "    def __init__(self, proxy_url):\n",
    "        self.logger = logging.getLogger(__name__)\n",
    "        self.proxy_url = proxy_url\n",
    "    \n",
    "    def get_random_proxy(self):  \n",
    "    '''随机从文件中读取proxy'''  \n",
    "    while 1:  \n",
    "        with open('D:\\\\PERSONALS\\\\littletest\\\\ip.txt', 'r') as f:  \n",
    "            proxies = f.readlines()  \n",
    "        if proxies:  \n",
    "            break  \n",
    "        else:  \n",
    "            time.sleep(1)  \n",
    "    proxy = random.choice(proxies).strip()  \n",
    "    return proxy  \n",
    "    \n",
    "    def process_request(self, request, spider):\n",
    "        if request.meta.get('retry_times'):\n",
    "            proxy = self.get_random_proxy()\n",
    "            if proxy:\n",
    "                uri = 'https://{proxy}'.format(proxy=proxy)\n",
    "                self.logger.debug('使用代理 ' + proxy)\n",
    "                request.meta['proxy'] = uri\n",
    "\n",
    "    @classmethod\n",
    "    def from_crawler(cls, crawler):\n",
    "        settings = crawler.settings\n",
    "        return cls(\n",
    "            proxy_url=settings.get('PROXY_URL')\n",
    "        )\n",
    "    "
   ]
  }
 ],
 "metadata": {
  "kernelspec": {
   "display_name": "Python 3",
   "language": "python",
   "name": "python3"
  },
  "language_info": {
   "codemirror_mode": {
    "name": "ipython",
    "version": 3
   },
   "file_extension": ".py",
   "mimetype": "text/x-python",
   "name": "python",
   "nbconvert_exporter": "python",
   "pygments_lexer": "ipython3",
   "version": "3.6.5"
  }
 },
 "nbformat": 4,
 "nbformat_minor": 2
}
